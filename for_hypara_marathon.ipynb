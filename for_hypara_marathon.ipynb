{
  "nbformat": 4,
  "nbformat_minor": 0,
  "metadata": {
    "colab": {
      "provenance": [],
      "gpuType": "T4"
    },
    "kernelspec": {
      "name": "python3",
      "display_name": "Python 3"
    },
    "language_info": {
      "name": "python"
    },
    "accelerator": "GPU"
  },
  "cells": [
    {
      "cell_type": "code",
      "source": [
        "!pip install optuna\n",
        "from google.colab import drive\n",
        "drive.mount('/content/drive')"
      ],
      "metadata": {
        "id": "ldYJUkrJUryH"
      },
      "execution_count": null,
      "outputs": []
    },
    {
      "cell_type": "code",
      "execution_count": null,
      "metadata": {
        "id": "5K-xkR4N8YEe"
      },
      "outputs": [],
      "source": [
        "from dataclasses import dataclass\n",
        "from enum import Enum\n",
        "import math\n",
        "import sys\n",
        "import os\n",
        "import optuna\n",
        "import time\n",
        "import joblib\n",
        "import multiprocessing\n",
        "import statistics\n",
        "from subprocess import run, PIPE\n",
        "\n",
        "# visualizerからテストをとってきた個数\n",
        "n_files = 100\n",
        "root = \"/content/drive/MyDrive/\"\n",
        "#コンテスト毎に分けておく\n",
        "contest_name = \"ahc_029/\"\n",
        "#得点出力するコード\n",
        "program = \"calc_score.py\"\n",
        "\n",
        "def calc_score_each(seed: int, wait_turn: int,can_per_boarder: float):\n",
        "\n",
        "    #それぞれのテスト毎に読み込み実行させる\n",
        "    in_file = f\"{root + contest_name}in/{seed:04}.txt\"\n",
        "    changed_in_file = f\"{root + contest_name}in/ch{seed:04}.txt\"\n",
        "    #out_file = f\"{root + contest_name}out/{seed:04}.txt\"\n",
        "    os.system(f'echo \"{wait_turn} {can_per_boarder}\" > {changed_in_file}')\n",
        "    os.system(f'cat {in_file}  >> {changed_in_file}')\n",
        "\n",
        "    #shellで実行するように各自調整\n",
        "    cmd = f\"python3 {root + contest_name + program} < {changed_in_file}\"\n",
        "    my_process = run(\n",
        "      cmd,\n",
        "      shell=True,\n",
        "      stdout=PIPE, stderr=PIPE\n",
        "    )\n",
        "\n",
        "    score = int(my_process.stdout.decode())\n",
        "    #029では2の累乗ごとに上がって行く為\n",
        "    return math.log2(score)\n",
        "\n",
        "\n",
        "def calc_scores(wait_turn: int,can_per_boarder: float,cores: int):\n",
        "    # n-jobsはCPU並列数\n",
        "    # それぞれのCPU数にあわせると良い\n",
        "    scores = joblib.Parallel(n_jobs=cores)(\n",
        "        joblib.delayed(calc_score_each)(i, wait_turn,can_per_boarder) for i in range(n_files)\n",
        "    )\n",
        "    return scores\n",
        "\n",
        "\n",
        "def objective(trial: optuna.trial.Trial):\n",
        "    start = time.time()\n",
        "    cores = multiprocessing.cpu_count()\n",
        "    # ここに探索したいパラメータを置いておく\n",
        "    wait_turn = trial.suggest_int(\"wait_turn\", 50, 300)\n",
        "    can_per_boarder = trial.suggest_float(\"can_per_boarder\", 0.5, 4.0)\n",
        "    # scoreで計算できるようにする\n",
        "    scores = calc_scores(wait_turn,can_per_boarder,cores)\n",
        "    print(f\"elapsed: {time.time() - start}\")\n",
        "    return statistics.mean(scores)\n",
        "\n",
        "\n",
        "if __name__ == \"__main__\":\n",
        "\n",
        "    #directionは答えを最大or最小にするかどうか\n",
        "    study = optuna.create_study(\n",
        "        direction = \"maximize\",\n",
        "        storage=f\"sqlite:///{contest_name[:-1]}.db\",\n",
        "        study_name = \"tune-param\",\n",
        "        load_if_exists = True,\n",
        "    )\n",
        "\n",
        "    #n_trialsは試行回数\n",
        "    study.optimize(objective, n_trials = 100)\n",
        "\n"
      ]
    },
    {
      "cell_type": "code",
      "source": [
        "study = optuna.load_study(storage=f\"sqlite:///{contest_name}.db\", study_name=\"tune-param\")\n",
        "optuna.visualization.plot_optimization_history(study)"
      ],
      "metadata": {
        "id": "3FrmVM6-JNpP"
      },
      "execution_count": null,
      "outputs": []
    },
    {
      "cell_type": "code",
      "source": [],
      "metadata": {
        "id": "h4J1WOSB8Zp5"
      },
      "execution_count": null,
      "outputs": []
    },
    {
      "cell_type": "code",
      "source": [
        "\n",
        "\n"
      ],
      "metadata": {
        "id": "e_bIhkqGRE7D"
      },
      "execution_count": null,
      "outputs": []
    },
    {
      "cell_type": "markdown",
      "source": [],
      "metadata": {
        "id": "qT2j9CiwMqzL"
      }
    }
  ]
}