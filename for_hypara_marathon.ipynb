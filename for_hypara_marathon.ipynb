{
  "nbformat": 4,
  "nbformat_minor": 0,
  "metadata": {
    "colab": {
      "provenance": [],
      "gpuType": "T4"
    },
    "kernelspec": {
      "name": "python3",
      "display_name": "Python 3"
    },
    "language_info": {
      "name": "python"
    },
    "accelerator": "GPU"
  },
  "cells": [
    {
      "cell_type": "code",
      "source": [
        "!pip install optuna\n",
        "from google.colab import drive\n",
        "drive.mount('/content/drive')"
      ],
      "metadata": {
        "id": "ldYJUkrJUryH"
      },
      "execution_count": null,
      "outputs": []
    },
    {
      "cell_type": "code",
      "execution_count": null,
      "metadata": {
        "colab": {
          "base_uri": "https://localhost:8080/"
        },
        "id": "5K-xkR4N8YEe",
        "outputId": "092bbf04-88c3-4d79-c459-3d8b4353c4d8"
      },
      "outputs": [
        {
          "output_type": "stream",
          "name": "stderr",
          "text": [
            "[I 2023-12-27 08:18:15,231] Using an existing study with name 'tune-param' instead of creating a new one.\n"
          ]
        },
        {
          "output_type": "stream",
          "name": "stdout",
          "text": [
            "2\n"
          ]
        },
        {
          "output_type": "stream",
          "name": "stderr",
          "text": [
            "[I 2023-12-27 08:19:10,405] Trial 2 finished with value: 12.067301926052249 and parameters: {'wait_turn': 157, 'can_per_boarder': 2.1095804773406046}. Best is trial 2 with value: 12.067301926052249.\n"
          ]
        },
        {
          "output_type": "stream",
          "name": "stdout",
          "text": [
            "elapsed: 55.097840785980225\n",
            "2\n"
          ]
        },
        {
          "output_type": "stream",
          "name": "stderr",
          "text": [
            "[I 2023-12-27 08:19:32,131] Trial 3 finished with value: 6.3458293809954345 and parameters: {'wait_turn': 55, 'can_per_boarder': 3.15990514176534}. Best is trial 2 with value: 12.067301926052249.\n"
          ]
        },
        {
          "output_type": "stream",
          "name": "stdout",
          "text": [
            "elapsed: 21.677419900894165\n",
            "2\n"
          ]
        },
        {
          "output_type": "stream",
          "name": "stderr",
          "text": [
            "[I 2023-12-27 08:19:54,426] Trial 4 finished with value: 6.315280128284963 and parameters: {'wait_turn': 64, 'can_per_boarder': 3.1827074025516895}. Best is trial 2 with value: 12.067301926052249.\n"
          ]
        },
        {
          "output_type": "stream",
          "name": "stdout",
          "text": [
            "elapsed: 22.23929524421692\n",
            "2\n"
          ]
        },
        {
          "output_type": "stream",
          "name": "stderr",
          "text": [
            "[I 2023-12-27 08:20:17,756] Trial 5 finished with value: 11.316469073911447 and parameters: {'wait_turn': 148, 'can_per_boarder': 2.141490302825453}. Best is trial 2 with value: 12.067301926052249.\n"
          ]
        },
        {
          "output_type": "stream",
          "name": "stdout",
          "text": [
            "elapsed: 23.276235103607178\n",
            "2\n"
          ]
        },
        {
          "output_type": "stream",
          "name": "stderr",
          "text": [
            "[I 2023-12-27 08:20:40,096] Trial 6 finished with value: 19.139086038098746 and parameters: {'wait_turn': 103, 'can_per_boarder': 0.8070018171560889}. Best is trial 6 with value: 19.139086038098746.\n"
          ]
        },
        {
          "output_type": "stream",
          "name": "stdout",
          "text": [
            "elapsed: 22.290169715881348\n",
            "2\n"
          ]
        },
        {
          "output_type": "stream",
          "name": "stderr",
          "text": [
            "[I 2023-12-27 08:21:04,451] Trial 7 finished with value: 19.778068471219086 and parameters: {'wait_turn': 207, 'can_per_boarder': 1.046583530973909}. Best is trial 7 with value: 19.778068471219086.\n"
          ]
        },
        {
          "output_type": "stream",
          "name": "stdout",
          "text": [
            "elapsed: 24.306248664855957\n",
            "2\n"
          ]
        },
        {
          "output_type": "stream",
          "name": "stderr",
          "text": [
            "[I 2023-12-27 08:21:26,700] Trial 8 finished with value: 19.94558692121312 and parameters: {'wait_turn': 229, 'can_per_boarder': 0.8443224179622075}. Best is trial 8 with value: 19.94558692121312.\n"
          ]
        },
        {
          "output_type": "stream",
          "name": "stdout",
          "text": [
            "elapsed: 22.202112436294556\n",
            "2\n"
          ]
        },
        {
          "output_type": "stream",
          "name": "stderr",
          "text": [
            "[I 2023-12-27 08:21:50,975] Trial 9 finished with value: 19.409144135257414 and parameters: {'wait_turn': 169, 'can_per_boarder': 0.7912140851731007}. Best is trial 8 with value: 19.94558692121312.\n"
          ]
        },
        {
          "output_type": "stream",
          "name": "stdout",
          "text": [
            "elapsed: 24.225248336791992\n",
            "2\n"
          ]
        },
        {
          "output_type": "stream",
          "name": "stderr",
          "text": [
            "[I 2023-12-27 08:22:12,191] Trial 10 finished with value: 6.222352764435612 and parameters: {'wait_turn': 169, 'can_per_boarder': 3.228221658201966}. Best is trial 8 with value: 19.94558692121312.\n"
          ]
        },
        {
          "output_type": "stream",
          "name": "stdout",
          "text": [
            "elapsed: 21.16870379447937\n",
            "2\n"
          ]
        },
        {
          "output_type": "stream",
          "name": "stderr",
          "text": [
            "[I 2023-12-27 08:22:34,060] Trial 11 finished with value: 17.72728278976756 and parameters: {'wait_turn': 86, 'can_per_boarder': 1.344432411933063}. Best is trial 8 with value: 19.94558692121312.\n"
          ]
        },
        {
          "output_type": "stream",
          "name": "stdout",
          "text": [
            "elapsed: 21.81639289855957\n",
            "2\n"
          ]
        },
        {
          "output_type": "stream",
          "name": "stderr",
          "text": [
            "[I 2023-12-27 08:22:57,628] Trial 12 finished with value: 15.566362142464284 and parameters: {'wait_turn': 297, 'can_per_boarder': 1.7611707761083344}. Best is trial 8 with value: 19.94558692121312.\n"
          ]
        },
        {
          "output_type": "stream",
          "name": "stdout",
          "text": [
            "elapsed: 23.507781744003296\n",
            "2\n"
          ]
        },
        {
          "output_type": "stream",
          "name": "stderr",
          "text": [
            "[I 2023-12-27 08:23:19,847] Trial 13 finished with value: 17.931884581318123 and parameters: {'wait_turn': 244, 'can_per_boarder': 0.5567834956244502}. Best is trial 8 with value: 19.94558692121312.\n"
          ]
        },
        {
          "output_type": "stream",
          "name": "stdout",
          "text": [
            "elapsed: 22.165921449661255\n",
            "2\n"
          ]
        },
        {
          "output_type": "stream",
          "name": "stderr",
          "text": [
            "[I 2023-12-27 08:23:43,697] Trial 14 finished with value: 18.350322289240495 and parameters: {'wait_turn': 234, 'can_per_boarder': 1.3157993335740983}. Best is trial 8 with value: 19.94558692121312.\n"
          ]
        },
        {
          "output_type": "stream",
          "name": "stdout",
          "text": [
            "elapsed: 23.79812979698181\n",
            "2\n"
          ]
        },
        {
          "output_type": "stream",
          "name": "stderr",
          "text": [
            "[I 2023-12-27 08:24:04,830] Trial 15 finished with value: 5.801755849763453 and parameters: {'wait_turn': 218, 'can_per_boarder': 3.9601636376373324}. Best is trial 8 with value: 19.94558692121312.\n"
          ]
        },
        {
          "output_type": "stream",
          "name": "stdout",
          "text": [
            "elapsed: 21.08111834526062\n",
            "2\n"
          ]
        },
        {
          "output_type": "stream",
          "name": "stderr",
          "text": [
            "[I 2023-12-27 08:24:28,397] Trial 16 finished with value: 19.040376307435206 and parameters: {'wait_turn': 204, 'can_per_boarder': 1.2310209854788756}. Best is trial 8 with value: 19.94558692121312.\n"
          ]
        },
        {
          "output_type": "stream",
          "name": "stdout",
          "text": [
            "elapsed: 23.514721155166626\n",
            "2\n"
          ]
        }
      ],
      "source": [
        "from dataclasses import dataclass\n",
        "from enum import Enum\n",
        "import math\n",
        "import sys\n",
        "import os\n",
        "import optuna\n",
        "import time\n",
        "import joblib\n",
        "import multiprocessing\n",
        "import statistics\n",
        "from subprocess import run, PIPE\n",
        "\n",
        "# visualizerからテストをとってきた個数\n",
        "n_files = 100\n",
        "root = \"/content/drive/MyDrive/\"\n",
        "#コンテスト毎に分けておく\n",
        "contest_name = \"ahc_029/\"\n",
        "#得点出力するコード\n",
        "program = \"calc_score.py\"\n",
        "\n",
        "def calc_score_each(seed: int, wait_turn: int,can_per_boarder: float):\n",
        "\n",
        "    #それぞれのテスト毎に読み込み実行させる\n",
        "    in_file = f\"{root + contest_name}in/{seed:04}.txt\"\n",
        "    changed_in_file = f\"{root + contest_name}in/ch{seed:04}.txt\"\n",
        "    #out_file = f\"{root + contest_name}out/{seed:04}.txt\"\n",
        "    os.system(f'echo \"{wait_turn} {can_per_boarder}\" > {changed_in_file}')\n",
        "    os.system(f'cat {in_file}  >> {changed_in_file}')\n",
        "\n",
        "    #shellで実行するように各自調整\n",
        "    cmd = f\"python3 {root + contest_name + program} < {changed_in_file}\"\n",
        "    my_process = run(\n",
        "      cmd,\n",
        "      shell=True,\n",
        "      stdout=PIPE, stderr=PIPE\n",
        "    )\n",
        "\n",
        "    score = int(my_process.stdout.decode())\n",
        "    #029では2の累乗ごとに上がって行く為\n",
        "    return math.log2(score)\n",
        "\n",
        "\n",
        "def calc_scores(wait_turn: int,can_per_boarder: float,cores: int):\n",
        "    # n-jobsはCPU並列数\n",
        "    # それぞれのCPU数にあわせると良い\n",
        "    scores = joblib.Parallel(n_jobs=cores)(\n",
        "        joblib.delayed(calc_score_each)(i, wait_turn,can_per_boarder) for i in range(n_files)\n",
        "    )\n",
        "    return scores\n",
        "\n",
        "\n",
        "def objective(trial: optuna.trial.Trial):\n",
        "    start = time.time()\n",
        "    cores = multiprocessing.cpu_count()\n",
        "    # ここに探索したいパラメータを置いておく\n",
        "    wait_turn = trial.suggest_int(\"wait_turn\", 50, 300)\n",
        "    can_per_boarder = trial.suggest_float(\"can_per_boarder\", 0.5, 4.0)\n",
        "    # scoreで計算できるようにする\n",
        "    scores = calc_scores(wait_turn,can_per_boarder,cores)\n",
        "    print(f\"elapsed: {time.time() - start}\")\n",
        "    return statistics.mean(scores)\n",
        "\n",
        "\n",
        "if __name__ == \"__main__\":\n",
        "\n",
        "    #directionは答えを最大or最小にするかどうか\n",
        "    study = optuna.create_study(\n",
        "        direction = \"maximize\",\n",
        "        storage=f\"sqlite:///{contest_name[:-1]}.db\",\n",
        "        study_name = \"tune-param\",\n",
        "        load_if_exists = True,\n",
        "    )\n",
        "\n",
        "    #n_trialsは試行回数\n",
        "    study.optimize(objective, n_trials = 100)\n",
        "\n"
      ]
    },
    {
      "cell_type": "code",
      "source": [
        "study = optuna.load_study(storage=f\"sqlite:///{contest_name}.db\", study_name=\"tune-param\")\n",
        "optuna.visualization.plot_optimization_history(study)"
      ],
      "metadata": {
        "id": "3FrmVM6-JNpP"
      },
      "execution_count": null,
      "outputs": []
    },
    {
      "cell_type": "code",
      "source": [],
      "metadata": {
        "id": "h4J1WOSB8Zp5"
      },
      "execution_count": null,
      "outputs": []
    },
    {
      "cell_type": "code",
      "source": [
        "\n",
        "\n"
      ],
      "metadata": {
        "id": "e_bIhkqGRE7D"
      },
      "execution_count": null,
      "outputs": []
    },
    {
      "cell_type": "markdown",
      "source": [],
      "metadata": {
        "id": "qT2j9CiwMqzL"
      }
    }
  ]
}